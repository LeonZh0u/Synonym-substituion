{
 "cells": [
  {
   "cell_type": "code",
   "execution_count": null,
   "metadata": {},
   "outputs": [],
   "source": [
    "from lexsub import LexSub\n",
    "from gensim.models import KeyedVectors\n",
    "\n",
    "word2vec_path = \"/Users/Leon/GoogleNews-vectors-negative300.bin\"\n",
    "vectors = KeyedVectors.load_word2vec_format(word2vec_path, binary=True)\n",
    "ls = LexSub(vectors, candidate_generator='lin')\n",
    "\n",
    "sentence = \"She had a drink at the bar\"\n",
    "target = \"bar.n\"\n",
    "result = ls.lex_sub(target, sentence)\n",
    "print(result)\n"
   ]
  },
  {
   "cell_type": "code",
   "execution_count": 2,
   "metadata": {},
   "outputs": [],
   "source": [
    "letters = 'etaoinshrdlcumwfgypbvkjxqz'\n",
    "vowels = set('aeiou')\n",
    "\n",
    "def difficulty(word):\n",
    "    unique = set(word)\n",
    "    positions=0\n",
    "    \n",
    "    for c in word:\n",
    "        if (c in letters):\n",
    "            positions =positions+letters.index(c)\n",
    "    \n",
    "\n",
    "    return (int)(len(word) * len(unique) * (7 - len(unique & vowels)) * positions)"
   ]
  },
  {
   "cell_type": "code",
   "execution_count": 3,
   "metadata": {},
   "outputs": [
    {
     "name": "stdout",
     "output_type": "stream",
     "text": [
      "Loading latest local model: en-1.1\n",
      "\tLoading embeddings ... \n",
      "\tLoading tokenization model ...\n",
      "\tLoading lemmatization model ...\n",
      "\tLoading tagger model ...\n",
      "\tLoading parser model ...\n",
      "Model loading complete.\n",
      "\n"
     ]
    }
   ],
   "source": [
    "from nltk.tokenize import sent_tokenize\n",
    "from nltk.corpus import cmudict\n",
    "from cube.api import Cube\n",
    "cube=Cube(verbose=True)\n",
    "\n",
    "from nltk.tokenize import sent_tokenize\n",
    "cube.load(\"en\")\n",
    "d = cmudict.dict()\n",
    "def nsyl(word):\n",
    "    try:\n",
    "        return [len(list(y for y in x if y[-1].isdigit())) for x in d[word.lower()]]\n",
    "    except KeyError:\n",
    "        #if word not found in cmudict\n",
    "        return [syllables(word)]\n",
    "def syllables(word):\n",
    "    #referred from stackoverflow.com/questions/14541303/count-the-number-of-syllables-in-a-word\n",
    "    count = 0\n",
    "    vowels = 'aeiouy'\n",
    "    word = word.lower()\n",
    "    if word[0] in vowels:\n",
    "        count +=1\n",
    "    for index in range(1,len(word)):\n",
    "        if word[index] in vowels and word[index-1] not in vowels:\n",
    "            count +=1\n",
    "    if word.endswith('e'):\n",
    "        count -= 1\n",
    "    if word.endswith('le'):\n",
    "        count+=1\n",
    "    if count == 0:\n",
    "        count +=1\n",
    "    return count"
   ]
  },
  {
   "cell_type": "code",
   "execution_count": 8,
   "metadata": {
    "scrolled": true
   },
   "outputs": [
    {
     "name": "stdout",
     "output_type": "stream",
     "text": [
      "i likes it\n",
      "i Case=Nom|Number=Sing|Person=1|PronType=Prs\n",
      "\n",
      "likes Mood=Ind|Number=Sing|Person=3|Tense=Pres|VerbForm=Fin\n",
      "\n",
      "it Case=Nom|Gender=Neut|Number=Sing|Person=3|PronType=Prs\n",
      "\n",
      "0 common\n",
      "119.19000000000003\n",
      "Very easy to read. Easily understood by an average 11-year-old student. \n"
     ]
    }
   ],
   "source": [
    "def range_score(score):\n",
    "    score_range = {'Very easy to read. Easily understood by an average 11-year-old student. ': 90,\n",
    "                   'Easy to read. Conversational English for consumers.': 80, \n",
    "                   'Fairly easy to read.':70,\n",
    "                   'Plain English. Easily understood by 13- to 15-year-old students.': 60, \n",
    "                   'Fairly difficult to read. ': 50, \n",
    "                   'Difficult to read. ': 30,\n",
    "                   'Very difficult to read. Best understood by university graduates. ': -1000}\n",
    "\n",
    "\n",
    "    for k, v in score_range.items():\n",
    "        if score >= v:\n",
    "            return k\n",
    "\n",
    "\n",
    "cnt=0\n",
    "while (cnt<1):\n",
    "    string=input()\n",
    "    sentences=cube(string)\n",
    "    seg_sent=sent_tokenize(string)\n",
    "    a=0\n",
    "    word_cnt=0\n",
    "    total_syl=0\n",
    "    punct=0\n",
    "    t=0\n",
    "    for sentence in sentences:\n",
    "        for entry in sentence:\n",
    "            pos=\"\"\n",
    "            if (entry.upos==\"PUNCT\"):\n",
    "                punct=punct+1\n",
    "            \n",
    "            total_syl=total_syl+nsyl(entry.word)[0]\n",
    "            if (entry.upos==\"VERB\"):\n",
    "                pos=\".v\"\n",
    "            elif(entry.upos==\"NOUN\"):\n",
    "                pos=\".n\"\n",
    "            elif(entry.upos==\"ADJ\" or entry.upos==\"ADV\"):\n",
    "                pos=\".a\"\n",
    "            else:\n",
    "                continue\n",
    "            \n",
    "            print(entry.word,ls.lex_sub(entry.lemma+pos, seg_sent[t]))\n",
    "            print(syn(entry.lemma))\n",
    "            print(\"\")\n",
    "            \n",
    "            \n",
    "        \n",
    "        word_cnt=word_cnt+len(sentence)\n",
    "        t+=1\n",
    "        \n",
    "\n",
    "    \n",
    "    if (a<5000):\n",
    "        s=\"common\"\n",
    "        print(a, s)\n",
    "\n",
    "    elif (a>=5000 and a<20000):\n",
    "        s=\"medium\"\n",
    "        print(a, s)\n",
    "\n",
    "    elif(a>=20000):\n",
    "        s='hard'\n",
    "        print(a, s)\n",
    "    cnt=cnt+1\n",
    "    \n",
    "    \n",
    "    f_score=206.835-1.015*((word_cnt-punct)/len(sentences))-84.6*(total_syl/(word_cnt-punct))\n",
    "    print(f_score)\n",
    "    print(range_score(f_score))\n",
    "    \n",
    "    \n",
    "    "
   ]
  },
  {
   "cell_type": "code",
   "execution_count": 8,
   "metadata": {},
   "outputs": [
    {
     "name": "stdout",
     "output_type": "stream",
     "text": [
      "\n"
     ]
    }
   ],
   "source": [
    "import sys\n",
    "import requests\n",
    "from bs4 import BeautifulSoup as bs\n",
    "\n",
    "def syn(word):\n",
    "    url = \"https://www.thesaurus.com/browse/\"\n",
    "    url += word\n",
    "    \n",
    "    r = requests.get(url)\n",
    "    soup = bs(r.content, \"html.parser\")\n",
    "\n",
    "    answer_list = soup.findAll(\"ul\")[5]\n",
    "    syns = answer_list.findChildren(\"a\")\n",
    "    list=[]\n",
    "    for i in range(len(syns)):\n",
    "        list.append(syns[i].text)\n",
    "    return list\n",
    "if __name__ == '__main__':\n",
    "    print()"
   ]
  },
  {
   "cell_type": "code",
   "execution_count": 42,
   "metadata": {},
   "outputs": [
    {
     "name": "stdout",
     "output_type": "stream",
     "text": [
      "draw\n",
      "allure\n",
      "attract\n",
      "bewitch\n",
      "charm\n",
      "delight\n",
      "entertain\n",
      "fascinate\n",
      "magnetize\n",
      "overwhelm\n",
      "please\n",
      "wile\n",
      "become popular\n",
      "win favor\n"
     ]
    }
   ],
   "source": [
    "syn(\"took\")"
   ]
  },
  {
   "cell_type": "code",
   "execution_count": null,
   "metadata": {},
   "outputs": [],
   "source": []
  }
 ],
 "metadata": {
  "kernelspec": {
   "display_name": "Python 3",
   "language": "python",
   "name": "python3"
  },
  "language_info": {
   "codemirror_mode": {
    "name": "ipython",
    "version": 3
   },
   "file_extension": ".py",
   "mimetype": "text/x-python",
   "name": "python",
   "nbconvert_exporter": "python",
   "pygments_lexer": "ipython3",
   "version": "3.7.3"
  }
 },
 "nbformat": 4,
 "nbformat_minor": 2
}
